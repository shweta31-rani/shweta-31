{
  "nbformat": 4,
  "nbformat_minor": 0,
  "metadata": {
    "colab": {
      "provenance": []
    },
    "kernelspec": {
      "name": "python3",
      "display_name": "Python 3"
    },
    "language_info": {
      "name": "python"
    }
  },
  "cells": [
    {
      "cell_type": "markdown",
      "source": [
        "1. What is RESTful API?\n",
        "-F\n",
        "\n",
        "Ans:A RESTful api stands for Representational State Transfer Application.IT defines how applications interact with each other.It focus on principles like client server architecture , statelessness,and a uniform interface."
      ],
      "metadata": {
        "id": "3NyHFEWFvenl"
      }
    },
    {
      "cell_type": "markdown",
      "source": [],
      "metadata": {
        "id": "qfyr0Z1rrqxs"
      }
    },
    {
      "cell_type": "markdown",
      "source": [
        "2.Eplain the concept of API specification.-f\n",
        "\n",
        "\n",
        "Ans: API specification is a formal document that outlines the elements of an API, acting as a blueprint for its design and development. It details the API's behavior, including its operations, endpoints, input/output for each call, and the data models it uses. Essentially, it defines how an API should behave and interact with other systems."
      ],
      "metadata": {
        "id": "epC7bf05xFT1"
      }
    },
    {
      "cell_type": "markdown",
      "source": [
        "3.What is Flask and why it is popular for building APIs?-f\n",
        "\n",
        "\n",
        "Ans:Because Flask is lightweight web framework used for building APIs.Due to its flexibility and ease of use make it popular choice building APIs."
      ],
      "metadata": {
        "id": "m-kTKl_ixgVb"
      }
    },
    {
      "cell_type": "markdown",
      "source": [
        "4. What is routing in Flask?-f\n",
        "\n",
        "\n",
        "Ans:Flask is a lightweight python web framework provides developers with the ability to map URLs to a  specific function.Thisis called routing.-f\n",
        "\n",
        "TYPES OF ROUTING -F\n",
        "\n",
        "1.static routing-f\n",
        "\n",
        "2.dynamic routingf\n"
      ],
      "metadata": {
        "id": "sXoUw0_4ymp9"
      }
    },
    {
      "cell_type": "markdown",
      "source": [
        "5.HOW DO YOU CREATE A SIMPLE F;ASK APPLICATION.\n",
        "\n",
        "\n",
        "-f\n",
        "Ans: First of all install flask and virtual environment bu using pip instal flask and then import flask .\n",
        "-f\n",
        "\n",
        "e.g.\n",
        "-f\n",
        "\n",
        "rom flask import Flask-F\n",
        "\n",
        "\n",
        "app = Flask(__name__)-f\n",
        "\n",
        "\n",
        "\n",
        "@app.route('/')-f\n",
        "\n",
        "\n",
        "def hello_name():-f\n",
        "\n",
        "\n",
        "   return \"Hello world\"-f\n",
        "\n",
        "   \n",
        "app.run(debug=True)"
      ],
      "metadata": {
        "id": "GHXc0Edz0JFV"
      }
    },
    {
      "cell_type": "markdown",
      "source": [
        "6.What are the HTTP methods used in RESTful apis?\n",
        "-f\n",
        "\n",
        "Ans:HTTP methods are:\n",
        "-f\n",
        "\n",
        "\n",
        "\n",
        "*   GET:retrives data from the server.\n",
        "*   POST:create new data on the server.\n",
        "\n",
        "\n",
        "*   PUT:updates  entire data on the server.\n",
        "*  DELETE:deletes a resource on the server.\n",
        "\n",
        "\n",
        "\n"
      ],
      "metadata": {
        "id": "u6s5bzsgruRf"
      }
    },
    {
      "cell_type": "markdown",
      "source": [
        "7.What is the purpose of the @app.route() decorator in flask?\n",
        "-f\n",
        "\n",
        "Ans:The @app. route() decorator is used to define the URL routing for your Flask app. It binds a URL to a Python function that handles the logic for that route."
      ],
      "metadata": {
        "id": "ZDyk_C1At1H_"
      }
    },
    {
      "cell_type": "markdown",
      "source": [
        "8.What is the difference between GET and POST HTTP methods?\n",
        "-f\n",
        "\n",
        "Ans:GET reteives the existing data from the server while POST create a new data on the server."
      ],
      "metadata": {
        "id": "A8REKv4WuSWI"
      }
    },
    {
      "cell_type": "markdown",
      "source": [
        "9.How do you handle errors in Flask apis?\n",
        "-f\n",
        "\n",
        "\n",
        "Ans:\n",
        "Error handling in Flask APIs can be implemented using a few different approaches:-f\n",
        "\n",
        "\n",
        "HTTP Exceptions:-f\n",
        "\n",
        "\n",
        "Flask provides built-in exception classes for common HTTP errors, like BadRequest, NotFound, and InternalServerError. Raising these exceptions will automatically return an appropriate error response to the client.-f\n",
        "\n",
        "\n",
        "\n",
        "\n",
        "Custom Error Handlers:-f\n",
        "\n",
        "\n",
        "The @app.errorhandler decorator can be used to define custom error handlers for specific exception types or HTTP status codes. This allows for more control over the format and content of error responses.\n",
        "    "
      ],
      "metadata": {
        "id": "_UrXEgHbuu6u"
      }
    },
    {
      "cell_type": "markdown",
      "source": [
        "10.How do you connect Flask to sql database.\n",
        "\n",
        "-f\n",
        "\n",
        "ANS:To connect Flask to an SQL database, you need to configure the database URI in your Flask application's configuration settings. This URI specifies the database type, username, password, host, and database name"
      ],
      "metadata": {
        "id": "PBQcf6fTvvcN"
      }
    },
    {
      "cell_type": "markdown",
      "source": [
        "11.WHAT IS THE ROLE OF FLASK SQL-AICHEMY?-F\n",
        "\n",
        "\n",
        "ans:SQLAlchemy is a open-source toolkit for the Python programming language, designed for efficient and high-performing database access. Its primary role is to help Python applications interact with relational databases by making it easier to create, update, and query tables."
      ],
      "metadata": {
        "id": "ko7_CbkBwpEm"
      }
    },
    {
      "cell_type": "markdown",
      "source": [
        "12.what are flask blueprints and how they are useful?-f\n",
        "\n",
        "Each Flask Blueprint is an object that works very similarly to a Flask application. They both can have resources, such as static files, templates, and views that are associated with routes. However, a Flask Blueprint is not actually an application. It needs to be registered in an application before you can run it."
      ],
      "metadata": {
        "id": "usBKeg8sye7V"
      }
    },
    {
      "cell_type": "markdown",
      "source": [
        "13.What is the purpose of flask request object?\n",
        "\n",
        "-f\n",
        "\n",
        "ANS:The Flask Request Object is used to perform both sending and receiving operations from a user's browser to the server and process the request data from the server. It should be imported from the flask module."
      ],
      "metadata": {
        "id": "j7qFb316y89u"
      }
    },
    {
      "cell_type": "markdown",
      "source": [
        "14.How do you create a RESTful api endpoint using Flask?\n",
        "-f\n",
        "\n",
        "Ans:\n",
        "Here's how to create a RESTful API endpoint using Flask: Import necessary modules.\n"
      ],
      "metadata": {
        "id": "_gy8Do__0bGG"
      }
    },
    {
      "cell_type": "code",
      "source": [
        "    from flask import Flask, request, jsonify\n",
        "    app = Flask(__name__)\n",
        "    @app.route('/resource', methods=['GET', 'POST'])\n",
        "    def handle_resource():\n",
        "        if request.method == 'GET':\n",
        "            # Handle GET request (e.g., retrieve data)\n",
        "            data = {'message': 'This is a GET request'}\n",
        "            return jsonify(data)\n",
        "        elif request.method == 'POST':\n",
        "            # Handle POST request (e.g., create data)\n",
        "            data = request.get_json()\n",
        "            # Process the data\n",
        "            return jsonify({'message': 'Data received', 'data': data}), 201 # 201 Created status code"
      ],
      "metadata": {
        "id": "i3eQjz6U2y1b"
      },
      "execution_count": null,
      "outputs": []
    },
    {
      "cell_type": "markdown",
      "source": [
        "15.What is the purpose of Flasks jsonify() function?\n",
        "-f\n",
        "\n",
        "\n",
        "Ans:The jsonify() function is useful in Flask apps because it automatically sets the correct response headers and content type for JSON responses, and allows you to easily return JSON-formatted data from your route handlers. This makes it easier and more convenient to create APIs that return JSON data.\n"
      ],
      "metadata": {
        "id": "7wtQby9N27bw"
      }
    },
    {
      "cell_type": "markdown",
      "source": [
        "16.Explain flask url_for function?-f\n",
        "\n",
        "\n",
        "\n",
        "Ans:The url_for() function in Flask generates a URL to a specific endpoint (view function) within the application. It accepts the name of the view function as its first argument and any number of keyword arguments, each corresponding to a variable part of the URL rule. It is useful for dynamically building URLs, especially when the structure of URLs might change. Instead of hardcoding URLs, url_for() allows you to refer to view functions by name, making code more maintainable and less prone to errors if URL structures are modified."
      ],
      "metadata": {
        "id": "pY15YqRa8a4o"
      }
    },
    {
      "cell_type": "markdown",
      "source": [
        "17. How does flask handle static files?\n",
        "-f\n",
        "\n",
        "\n",
        "Ans:A web application often requires a static file such as a javascript file or a CSS file supporting the display of a web page. Usually, the web server is configured to serve them for you, but during the development, these files are served from static folder in your package or next to your module and it will be available at /static on the application.\n",
        "\n",
        "A special endpoint static is used to generate URL for static files."
      ],
      "metadata": {
        "id": "Pnxmj_iM85hH"
      }
    },
    {
      "cell_type": "markdown",
      "source": [
        "18.What is API specification,and how does it help in building a flask API?\n",
        "-f\n",
        "\n",
        "Ans:An API (Application Programming Interface) specification is a technical document that describes how an API is structured, functions, and interacts with other systems. It acts as a blueprint for building or using an API, outlining its methods, endpoints, data formats, and protocols.: Developers use specifications as a guide to design and implement the API.  \n"
      ],
      "metadata": {
        "id": "Iwe94_Rh9bsc"
      }
    },
    {
      "cell_type": "markdown",
      "source": [
        "19. What are HTTP states code  and why they are important in flask API?\n",
        "-f\n",
        "\n",
        "\n",
        "Ans:HTTP status codes are three-digit numbers sent by the server in response to a client’s request. They indicate whether a request was successful, redirected, had an error, or required further authentication. In Flask, which is a lightweight Python web framework, these status codes play a crucial role in building RESTful APIs.\n",
        "Why are HTTP status codes important in Flask API?\n",
        "- Inform the Client About Request Status: They help clients (like browsers or mobile apps) understand the outcome of their request—whether it succeeded, failed, or needs additional action.\n",
        "- Error Handling: Status codes allow APIs to properly convey errors (like 404 for “Not Found” or 500 for “Internal Server Error”) so clients can react accordingly.\n",
        "- Redirect Mechanism: Some APIs use status codes like 301 (Moved Permanently) or 302 (Found) to redirect users or resources.\n",
        "- Standardized Communication: They follow HTTP standards, ensuring developers using the API can easily understand the responses without needing custom messages.\n",
        "- Better Debugging: When troubleshooting issues in Flask applications, correct status codes make debugging more efficient.\n",
        "\n",
        "Common HTTP Status Codes in Flask APIs\n",
        "| Status Code | Meaning |\n",
        "| 200 | OK (Successful request) |\n",
        "| 201 | Created (Resource successfully created) |\n",
        "| 204 | No Content (Successful but no data to return) |\n",
        "| 400 | Bad Request (Invalid input from client) |\n",
        "| 401 | Unauthorized (Authentication required) |\n",
        "| 403 | Forbidden (Client doesn’t have permission) |\n",
        "| 404 | Not Found (Requested resource doesn’t exist) |\n",
        "| 500 | Internal Server Error (Unexpected issue) |\n",
        "\n",
        "\n",
        "In Flask, you can set a status code when returning a response:\n",
        "from flask import Flask, jsonify\n",
        "\n",
        "app = Flask(__name__)\n",
        "\n",
        "@app.route('/example')\n",
        "def example():\n",
        "    return jsonify({\"message\": \"Hello, world!\"}), 200  # Explicitly setting status code 200\n",
        "\n",
        "if __name__ == \"__main__\":\n",
        "    app.run(debug=True)\n",
        "\n",
        "\n",
        "This ensures that clients receive clear responses about what’s happening in their requests.\n",
        "Would you like help implementing a Flask API with proper status codes? 🚀\n"
      ],
      "metadata": {
        "id": "QoCRmp0crnRY"
      }
    },
    {
      "cell_type": "markdown",
      "source": [
        "20.How do you handle POST request in flask?\n",
        "-f\n",
        "\n",
        "\n",
        "Ans:Handling POST requests in Flask involves defining routes that accept POST requests and accessing the data sent in the request body. Here's how it can be done:\n",
        "Define a route that accepts POST requests:\n",
        "Use the @app.route() decorator with the methods argument set to ['POST'].\n",
        "This specifies that the route should only handle POST requests.\n",
        "\n",
        "\n"
      ],
      "metadata": {
        "id": "DbxFB6jfskcn"
      }
    },
    {
      "cell_type": "markdown",
      "source": [
        "21.How do you secure a flask API ?\n",
        "-f\n",
        "\n",
        "\n",
        "Ans:To protect your APIs built with Flask, it is essential to address several key security aspects: Use HTTPS: Employing HTTPS encrypts data in transit, preventing unauthorized access and mitigating the risk of man-in-the-middle attacks.\n"
      ],
      "metadata": {
        "id": "jZn2CK5AuMQN"
      }
    },
    {
      "cell_type": "markdown",
      "source": [
        "22.What is the significance of Flask -RESTful extension ?\n",
        "-f\n",
        "\n",
        "\n",
        "Ans:Extensions are extra packages that add functionality to a Flask application. While PyPI contains many Flask extensions, you may not find one that fits your need. If this is the case, you can create your own, and publish it for others to use as well.\n"
      ],
      "metadata": {
        "id": "ReP37r2kukSV"
      }
    },
    {
      "cell_type": "markdown",
      "source": [
        "23.What is the role of flasks session object?\n",
        "-f\n",
        "\n",
        "\n",
        "\n",
        "Ans:In Flask, the session object is a dictionary-like object used to store user-specific data across multiple requests within a single user session. It's a way to keep track of information about a user as they navigate different pages of your web application. This allows you to personalize their experience and maintain stateful interactions.\n",
        "\n"
      ],
      "metadata": {
        "id": "efBnQdsbvbQm"
      }
    },
    {
      "cell_type": "markdown",
      "source": [
        "**practical:\n",
        "\n"
      ],
      "metadata": {
        "id": "3_IuQAlBv3yf"
      }
    },
    {
      "cell_type": "code",
      "source": [
        "from flask import Flask\n",
        "app=Flask(__name__)\n",
        "@app.route('/')\n",
        "def hello_world():\n",
        "  return 'Hello world'\n",
        "app.run(debug=True)"
      ],
      "metadata": {
        "id": "G9y91Qoqg7XI"
      },
      "execution_count": null,
      "outputs": []
    },
    {
      "cell_type": "code",
      "source": [
        "#serve static files\n",
        "from flask import Flask,send_from_directory\n",
        "app=Flask(__name__)\n",
        "@app.route('/static/<path:filename>')\n",
        "def serve_static(filename):\n",
        "    return send_from_directory('static',filename)\n",
        "app.run(debug=True)\n",
        "\n"
      ],
      "metadata": {
        "id": "l_pI024K0zBG"
      },
      "execution_count": null,
      "outputs": []
    },
    {
      "cell_type": "code",
      "source": [
        "from flask import Flask, request\n",
        "\n",
        "app = Flask(__name__)\n",
        "\n",
        "@app.route('/user', methods=['GET', 'POST'])\n",
        "def user():\n",
        "    if request.method == 'GET':\n",
        "        return 'Retrieve user data'\n",
        "    elif request.method == 'POST':\n",
        "        return 'Create new user'\n"
      ],
      "metadata": {
        "id": "TRC7DOAFifnW"
      },
      "execution_count": null,
      "outputs": []
    },
    {
      "cell_type": "code",
      "source": [
        "from flask import Flask, render_template\n",
        "\n",
        "app = Flask(__name__)\n",
        "\n",
        "@app.route('/')\n",
        "def hello():\n",
        "    return render_template('index.html')\n",
        "\n",
        "if __name__ == '__main__':\n",
        "    app.run(debug=True)\n"
      ],
      "metadata": {
        "id": "UDOD0docjh__"
      },
      "execution_count": null,
      "outputs": []
    },
    {
      "cell_type": "code",
      "source": [
        "<a href=\"{{ url_for('index') }}\">Home</a>\n",
        "<a href=\"{{ url_for('hello') }}\">Hello</a>\n"
      ],
      "metadata": {
        "id": "IOdULeI5j3yJ"
      },
      "execution_count": null,
      "outputs": []
    },
    {
      "cell_type": "code",
      "source": [
        "from flask import Flask\n",
        "from flask_wtf.csrf import CSRFProtect\n",
        "\n",
        "app = Flask(__name__)\n",
        "app.config['SECRET_KEY'] = 'your_secret_key' # Replace with a strong, random key\n",
        "csrf = CSRFProtect(app)"
      ],
      "metadata": {
        "id": "lGVQB72ikZ04"
      },
      "execution_count": null,
      "outputs": []
    },
    {
      "cell_type": "code",
      "source": [
        "# Importing Libraries..\n",
        "from flask import Flask, render_template, request\n",
        "from flask_wtf import FlaskForm\n",
        "from wtforms import StringField, PasswordField, BooleanField\n",
        "from wtforms import DecimalField, RadioField, SelectField, TextAreaField, FileField\n",
        "from wtforms.validators import InputRequired\n",
        "from werkzeug.security import generate_password_hash\n",
        "\n",
        "app = Flask(__name__)\n",
        "app.config['SECRET_KEY'] = 'secretkey'\n",
        "\n",
        "\n",
        "class MyForm(FlaskForm):\n",
        "    name = StringField('Name', validators=[InputRequired()])\n",
        "    password = PasswordField('Password', validators=[InputRequired()])\n",
        "    remember_me = BooleanField('Remember me')\n",
        "    salary = DecimalField('Salary', validators=[InputRequired()])\n",
        "    gender = RadioField('Gender', choices=[\n",
        "                        ('male', 'Male'), ('female', 'Female')])\n",
        "    country = SelectField('Country', choices=[('IN', 'India'), ('US', 'United States'),\n",
        "                                              ('UK', 'United Kingdom')])\n",
        "    message = TextAreaField('Message', validators=[InputRequired()])\n",
        "    photo = FileField('Photo')\n",
        "\n",
        "\n",
        "@app.route('/', methods=['GET', 'POST'])\n",
        "def index():\n",
        "    form = MyForm()\n",
        "    if form.validate_on_submit():\n",
        "        name = form.name.data\n",
        "        password = form.password.data\n",
        "        remember_me = form.remember_me.data\n",
        "        salary = form.salary.data\n",
        "        gender = form.gender.data\n",
        "        country = form.country.data\n",
        "        message = form.message.data\n",
        "        photo = form.photo.data.filename\n",
        "        return f'Name: {name} <br> Password: {generate_password_hash(password)} <br> Remember me: {remember_me} <br> Salary: {salary} <br> Gender: {gender} <br> Country: {country} <br> Message: {message} <br> Photo: {photo}'\n",
        "        <br > Remember me: {remember_me} < br > Salary: {salary} < br > Gender: {gender}\n",
        "        <br > Country: {country} < br > Message: {message} < br > Photo: {photo}'\n",
        "    return render_template('index.html', form=form)\n",
        "\n",
        "\n",
        "if __name__ == '__main__':\n",
        "    app.run()"
      ],
      "metadata": {
        "id": "iZ_hE7q0lVFD"
      },
      "execution_count": null,
      "outputs": []
    },
    {
      "cell_type": "code",
      "source": [
        "from flask import Flask, render_template, redirect, request, session\n",
        "from flask_session import Session\n",
        "\n",
        "app = Flask(__name__)\n",
        "\n",
        "                    # Configuration\n",
        "app.config[\"SESSION_PERMANENT\"] = False     # Sessions expire when the browser is closed\n",
        "app.config[\"SESSION_TYPE\"] = \"filesystem\"     # Store session data in files\n",
        "\n",
        "# Initialize Flask-Session\n",
        "Session(app)"
      ],
      "metadata": {
        "id": "Nxp1YoKAmnRF"
      },
      "execution_count": null,
      "outputs": []
    },
    {
      "cell_type": "code",
      "source": [],
      "metadata": {
        "id": "6j1QqiWNm4M7"
      },
      "execution_count": null,
      "outputs": []
    },
    {
      "cell_type": "code",
      "source": [
        "from flask import Flask, redirect, url_for\n",
        "\n",
        "app = Flask(__name__)\n",
        "\n",
        "@app.route('/')\n",
        "def index():\n",
        "    return 'This is the index page.'\n",
        "\n",
        "@app.route('/profile/<username>')\n",
        "def profile(username):\n",
        "    return f'Profile page for {username}'\n",
        "\n",
        "@app.route('/redirect_to_profile/<username>')\n",
        "def redirect_to_profile(username):\n",
        "    return redirect(url_for('profile', username=username))\n",
        "\n",
        "if __name__ == '__main__':\n",
        "    app.run(debug=True)"
      ],
      "metadata": {
        "id": "E9sYGL2pm4P6"
      },
      "execution_count": null,
      "outputs": []
    },
    {
      "cell_type": "code",
      "source": [
        "from flask import Flask, render_template\n",
        "\n",
        "app = Flask(__name__)\n",
        "\n",
        "@app.route('/')\n",
        "def index():\n",
        "    return 'Homepage'\n",
        "\n",
        "@app.errorhandler(404)\n",
        "def page_not_found(error):\n",
        "    return render_template('404.html'), 404\n",
        "\n",
        "if __name__ == '__main__':\n",
        "    app.run(debug=True)"
      ],
      "metadata": {
        "id": "zSFudyO1nFQe"
      },
      "execution_count": null,
      "outputs": []
    },
    {
      "cell_type": "code",
      "source": [
        "from flask import Flask\n",
        "from blueprints.users import users_bp\n",
        "\n",
        "app = Flask(__name__)\n",
        "app.register_blueprint(users_bp)\n",
        "\n",
        "if __name__ == '__main__':\n",
        "    app.run(debug=True)\n",
        ""
      ],
      "metadata": {
        "id": "zUZisVk7nRcH"
      },
      "execution_count": null,
      "outputs": []
    },
    {
      "cell_type": "code",
      "source": [
        "from flask import Flask\n",
        "\n",
        "app = Flask(__name__)\n",
        "\n",
        "# Define the custom filter function\n",
        "def reverse_string(s):\n",
        "    return s[::-1]\n",
        "\n",
        "# Register the filter with the Flask application\n",
        "app.jinja_env.filters['reverse'] = reverse_string\n",
        "\n",
        "@app.route('/')\n",
        "def index():\n",
        "    text = \"Hello, World!\"\n",
        "    return f\"<h1>{text|reverse}</h1>\"\n",
        "\n",
        "if __name__ == '__main__':\n",
        "    app.run(debug=True)"
      ],
      "metadata": {
        "id": "Cu05Rhj9nrv5"
      },
      "execution_count": null,
      "outputs": []
    },
    {
      "cell_type": "code",
      "source": [
        "from flask import Flask, redirect, url_for\n",
        "\n",
        "app = Flask(__name__)\n",
        "\n",
        "@app.route('/old_path')\n",
        "def old_path():\n",
        "    # Redirect to /new_path with query parameters\n",
        "    return redirect(url_for('new_path', param1='value1', param2='value2'))\n",
        "\n",
        "@app.route('/new_path')\n",
        "def new_path():\n",
        "    # Access query parameters using request.args\n",
        "    param1 = request.args.get('param1')\n",
        "    param2 = request.args.get('param2')\n",
        "    return f'Received param1: {param1}, param2: {param2}'\n",
        "\n",
        "if __name__ == '__main__':\n",
        "    app.run(debug=True)"
      ],
      "metadata": {
        "id": "yeNVAoE1oDo8"
      },
      "execution_count": null,
      "outputs": []
    },
    {
      "cell_type": "code",
      "source": [
        "from flask import Flask, jsonify\n",
        "\n",
        "app = Flask(__name__)\n",
        "\n",
        "@app.route('/data')\n",
        "def get_data():\n",
        "    data = {\n",
        "        'name': 'example',\n",
        "        'value': 123\n",
        "    }\n",
        "    return jsonify(data)\n",
        "\n",
        "if __name__ == '__main__':\n",
        "    app.run(debug=True)"
      ],
      "metadata": {
        "id": "RkJSDxKgoS2l"
      },
      "execution_count": null,
      "outputs": []
    },
    {
      "cell_type": "code",
      "source": [
        "from flask import Flask\n",
        "app = Flask(__name__)\n",
        "\n",
        "@app.route('/greet')\n",
        "def greet():\n",
        "    name = request.args.get('name')\n",
        "    if name:\n",
        "        return f\"Hello, {name}!\"\n",
        "    else:\n",
        "        return \"Hello, stranger!\""
      ],
      "metadata": {
        "id": "EkMjFmR-ogN9"
      },
      "execution_count": null,
      "outputs": []
    }
  ]
}